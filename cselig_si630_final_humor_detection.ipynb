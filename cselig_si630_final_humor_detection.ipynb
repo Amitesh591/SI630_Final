{
 "cells": [
  {
   "cell_type": "markdown",
   "metadata": {},
   "source": [
    "# Cooper Seligson\n",
    "## SI 630: Final Project"
   ]
  },
  {
   "cell_type": "markdown",
   "metadata": {},
   "source": [
    "# Humor Detection"
   ]
  },
  {
   "cell_type": "markdown",
   "metadata": {},
   "source": [
    "## Load Modules"
   ]
  },
  {
   "cell_type": "code",
   "execution_count": 1,
   "metadata": {},
   "outputs": [],
   "source": [
    "from collections import Counter\n",
    "import re\n",
    "import time\n",
    "\n",
    "import gensim\n",
    "import gensim.downloader as api\n",
    "import matplotlib.pyplot as plt\n",
    "import numpy as np\n",
    "import nltk\n",
    "from nltk.corpus import stopwords\n",
    "from nltk import word_tokenize\n",
    "from nltk.stem import WordNetLemmatizer\n",
    "import pandas as pd\n",
    "from scipy.sparse import hstack\n",
    "from scipy.stats import describe\n",
    "import seaborn as sns\n",
    "from sklearn.feature_extraction.text import CountVectorizer, TfidfVectorizer\n",
    "from sklearn.linear_model import LogisticRegression, LinearRegression, BayesianRidge\n",
    "from sklearn.ensemble import (\n",
    "    RandomForestRegressor,\n",
    "    GradientBoostingRegressor,\n",
    "    AdaBoostRegressor,\n",
    ")\n",
    "from sklearn.metrics import mean_squared_error\n",
    "from sklearn.tree import DecisionTreeRegressor\n",
    "from sklearn.svm import LinearSVR, NuSVR, SVR\n",
    "\n",
    "from sklearn.experimental import enable_hist_gradient_boosting\n",
    "from sklearn.ensemble import HistGradientBoostingRegressor"
   ]
  },
  {
   "cell_type": "code",
   "execution_count": 2,
   "metadata": {},
   "outputs": [],
   "source": [
    "import warnings\n",
    "\n",
    "warnings.filterwarnings(\"ignore\")"
   ]
  },
  {
   "cell_type": "code",
   "execution_count": 3,
   "metadata": {},
   "outputs": [],
   "source": [
    "# Set theme of seaborn \n",
    "sns.set()"
   ]
  },
  {
   "cell_type": "markdown",
   "metadata": {},
   "source": [
    "## Load Data"
   ]
  },
  {
   "cell_type": "code",
   "execution_count": 4,
   "metadata": {},
   "outputs": [],
   "source": [
    "train_df = pd.read_csv(\"data/task-1/train.csv\", dtype=str)\n",
    "dev_df = pd.read_csv(\"data/task-1/dev.csv\", dtype=str)\n",
    "test_df = pd.read_csv(\"data/task-1/test.csv\", dtype=str)"
   ]
  },
  {
   "cell_type": "markdown",
   "metadata": {},
   "source": [
    "For Development"
   ]
  },
  {
   "cell_type": "code",
   "execution_count": 5,
   "metadata": {},
   "outputs": [],
   "source": [
    "test_df = dev_df.copy()"
   ]
  },
  {
   "cell_type": "markdown",
   "metadata": {},
   "source": [
    "## Scoring Function"
   ]
  },
  {
   "cell_type": "markdown",
   "metadata": {},
   "source": [
    "Calculate Root Mean Squared Error"
   ]
  },
  {
   "cell_type": "code",
   "execution_count": 6,
   "metadata": {},
   "outputs": [],
   "source": [
    "def rmse(y_true, y_pred):\n",
    "    return np.sqrt(mean_squared_error(y_true, y_pred))"
   ]
  },
  {
   "cell_type": "markdown",
   "metadata": {},
   "source": [
    "## Baseline"
   ]
  },
  {
   "cell_type": "code",
   "execution_count": 7,
   "metadata": {},
   "outputs": [],
   "source": [
    "y_train = train_df[\"meanGrade\"].astype(float)\n",
    "y_test = test_df[\"meanGrade\"].astype(float)"
   ]
  },
  {
   "cell_type": "markdown",
   "metadata": {},
   "source": [
    "Turn meanGrade into into an integer for other functions needed later."
   ]
  },
  {
   "cell_type": "code",
   "execution_count": 8,
   "metadata": {},
   "outputs": [],
   "source": [
    "y_train_int = y_train.astype(float) * 10\n",
    "y_train_int = y_train_int.astype(int)"
   ]
  },
  {
   "cell_type": "code",
   "execution_count": 9,
   "metadata": {},
   "outputs": [],
   "source": [
    "meanGrade = np.mean(y_train)\n",
    "baseline_rmse = rmse(y_test,[meanGrade] * len(y_test))"
   ]
  },
  {
   "cell_type": "code",
   "execution_count": 10,
   "metadata": {},
   "outputs": [
    {
     "data": {
      "text/plain": [
       "0.5783998503042385"
      ]
     },
     "execution_count": 10,
     "metadata": {},
     "output_type": "execute_result"
    }
   ],
   "source": [
    "baseline_rmse"
   ]
  },
  {
   "cell_type": "markdown",
   "metadata": {},
   "source": [
    "## Feature Engineering "
   ]
  },
  {
   "cell_type": "markdown",
   "metadata": {},
   "source": [
    "Remove < and /> from original headline and create a new headline using the edited word"
   ]
  },
  {
   "cell_type": "code",
   "execution_count": 11,
   "metadata": {},
   "outputs": [],
   "source": [
    "train_df[\"new\"] = train_df.apply(\n",
    "    lambda x: re.sub(r\"<.+/>\", x[\"edit\"], x[\"original\"]), axis=1\n",
    ")\n",
    "train_df[\"original\"] = train_df[\"original\"].str.replace(r\"<(.+)/>\", \"\\g<1>\")\n",
    "\n",
    "test_df[\"new\"] = test_df.apply(\n",
    "    lambda x: re.sub(r\"<.+/>\", x[\"edit\"], x[\"original\"]), axis=1\n",
    ")\n",
    "test_df[\"original\"] = test_df[\"original\"].str.replace(r\"<(.+)/>\", \"\\g<1>\")"
   ]
  },
  {
   "cell_type": "markdown",
   "metadata": {},
   "source": [
    "Load Stopwords"
   ]
  },
  {
   "cell_type": "code",
   "execution_count": 12,
   "metadata": {},
   "outputs": [],
   "source": [
    "stop_words = set(stopwords.words(\"english\"))"
   ]
  },
  {
   "cell_type": "markdown",
   "metadata": {},
   "source": [
    "### Word2Vec"
   ]
  },
  {
   "cell_type": "markdown",
   "metadata": {},
   "source": [
    "[Using word2vec to Analyze News Headlines and Predict Article Success](https://towardsdatascience.com/using-word2vec-to-analyze-news-headlines-and-predict-article-success-cdeda5f14751)"
   ]
  },
  {
   "cell_type": "markdown",
   "metadata": {},
   "source": [
    "Utilize the [word2vec-google-news-300](https://code.google.com/archive/p/word2vec/) model. This model was created from a Google News dataset which should be a good dataset to use to represent the vectors since the dataset is funniness of news headlines."
   ]
  },
  {
   "cell_type": "code",
   "execution_count": 15,
   "metadata": {
    "scrolled": true
   },
   "outputs": [],
   "source": [
    "model = api.load(\"word2vec-google-news-300\")"
   ]
  },
  {
   "cell_type": "code",
   "execution_count": 16,
   "metadata": {},
   "outputs": [],
   "source": [
    "def document_vector(word2vec_model, doc):\n",
    "    # remove out-of-vocabulary words\n",
    "    doc = [word for word in doc if word in model.vocab]\n",
    "    return np.mean(model[doc], axis=0)\n",
    "\n",
    "def preprocess(text):\n",
    "    # Lowercase and Tokenize\n",
    "    doc = word_tokenize(text.lower())\n",
    "    # Remove Stop Words\n",
    "    doc = [word for word in doc if word not in stop_words]\n",
    "    # Remove non-alphabet tokens\n",
    "    doc = [word for word in doc if word.isalpha()]\n",
    "    return doc\n",
    "\n",
    "def to_vector(df, column):\n",
    "    headlines = df[column].tolist()\n",
    "    corpus = [preprocess(title) for title in headlines]\n",
    "    X = []\n",
    "    # append the vector for each document\n",
    "    for doc in corpus:  \n",
    "        vector = document_vector(model, doc)\n",
    "        X.append(vector)\n",
    "    return np.array(X)"
   ]
  },
  {
   "cell_type": "code",
   "execution_count": 17,
   "metadata": {},
   "outputs": [],
   "source": [
    "# to_vector(train_df.sample(10), \"original\")"
   ]
  },
  {
   "cell_type": "code",
   "execution_count": 18,
   "metadata": {},
   "outputs": [],
   "source": [
    "X_train_orig = to_vector(train_df, \"original\")\n",
    "X_train_new = to_vector(train_df, \"new\")\n",
    "X_test_orig = to_vector(test_df, \"original\")\n",
    "X_test_new = to_vector(test_df, \"new\")"
   ]
  },
  {
   "cell_type": "markdown",
   "metadata": {},
   "source": [
    "Check to make sure that the sizes match"
   ]
  },
  {
   "cell_type": "code",
   "execution_count": 19,
   "metadata": {},
   "outputs": [],
   "source": [
    "assert len(X_train_orig) == len(X_train_new) == len(train_df) "
   ]
  },
  {
   "cell_type": "code",
   "execution_count": 20,
   "metadata": {},
   "outputs": [],
   "source": [
    "assert len(X_test_orig) == len(X_test_new) == len(test_df) "
   ]
  },
  {
   "cell_type": "markdown",
   "metadata": {},
   "source": [
    "Combine the vectors from the original and edited headline "
   ]
  },
  {
   "cell_type": "code",
   "execution_count": 21,
   "metadata": {},
   "outputs": [],
   "source": [
    "X_train = [\n",
    "    np.concatenate((X_train_orig[c], X_train_new[c]), axis=None)\n",
    "    for c in range(len(X_train_orig))\n",
    "]\n",
    "X_test = [\n",
    "    np.concatenate((X_test_orig[c], X_test_new[c]), axis=None)\n",
    "    for c in range(len(X_test_orig))\n",
    "]"
   ]
  },
  {
   "cell_type": "markdown",
   "metadata": {},
   "source": [
    "## Utility Functions"
   ]
  },
  {
   "cell_type": "markdown",
   "metadata": {},
   "source": [
    "Function to round the prredictions to nearest even decimal since that is the form of the train set"
   ]
  },
  {
   "cell_type": "code",
   "execution_count": 22,
   "metadata": {},
   "outputs": [],
   "source": [
    "def roundPred(predictions):\n",
    "    final_predictions = []\n",
    "    for val in predictions:\n",
    "        val = int(val * 10)\n",
    "#         if val % 2 == 1:\n",
    "#             val += 1\n",
    "        final_predictions.append(val / 10)\n",
    "    return final_predictions"
   ]
  },
  {
   "cell_type": "markdown",
   "metadata": {},
   "source": [
    "## Models"
   ]
  },
  {
   "cell_type": "code",
   "execution_count": 23,
   "metadata": {},
   "outputs": [],
   "source": [
    "model_results = {}"
   ]
  },
  {
   "cell_type": "markdown",
   "metadata": {},
   "source": [
    "Add Baseline"
   ]
  },
  {
   "cell_type": "code",
   "execution_count": 24,
   "metadata": {},
   "outputs": [],
   "source": [
    "model_results[\"BASELINE\"] = baseline_rmse"
   ]
  },
  {
   "cell_type": "markdown",
   "metadata": {},
   "source": [
    "### Random Forest Regressor"
   ]
  },
  {
   "cell_type": "code",
   "execution_count": 25,
   "metadata": {},
   "outputs": [
    {
     "name": "stderr",
     "output_type": "stream",
     "text": [
      "[Parallel(n_jobs=-1)]: Using backend ThreadingBackend with 12 concurrent workers.\n",
      "[Parallel(n_jobs=-1)]: Done  10 out of  10 | elapsed:    4.4s finished\n"
     ]
    },
    {
     "data": {
      "text/plain": [
       "RandomForestRegressor(bootstrap=True, ccp_alpha=0.0, criterion='mse',\n",
       "                      max_depth=None, max_features='auto', max_leaf_nodes=None,\n",
       "                      max_samples=None, min_impurity_decrease=0.0,\n",
       "                      min_impurity_split=None, min_samples_leaf=1,\n",
       "                      min_samples_split=2, min_weight_fraction_leaf=0.0,\n",
       "                      n_estimators=10, n_jobs=-1, oob_score=False,\n",
       "                      random_state=42, verbose=1, warm_start=False)"
      ]
     },
     "execution_count": 25,
     "metadata": {},
     "output_type": "execute_result"
    }
   ],
   "source": [
    "rf_reg = RandomForestRegressor(n_estimators=10, n_jobs=-1, verbose=1, random_state=42)\n",
    "rf_reg.fit(X_train, y_train)"
   ]
  },
  {
   "cell_type": "code",
   "execution_count": 26,
   "metadata": {},
   "outputs": [
    {
     "name": "stderr",
     "output_type": "stream",
     "text": [
      "[Parallel(n_jobs=10)]: Using backend ThreadingBackend with 10 concurrent workers.\n",
      "[Parallel(n_jobs=10)]: Done   2 out of  10 | elapsed:    0.0s remaining:    0.0s\n",
      "[Parallel(n_jobs=10)]: Done  10 out of  10 | elapsed:    0.0s finished\n"
     ]
    }
   ],
   "source": [
    "predictions = roundPred(rf_reg.predict(X_test))"
   ]
  },
  {
   "cell_type": "code",
   "execution_count": 27,
   "metadata": {},
   "outputs": [],
   "source": [
    "rf_rmse = rmse(test_df[\"meanGrade\"], predictions)"
   ]
  },
  {
   "cell_type": "code",
   "execution_count": 28,
   "metadata": {},
   "outputs": [
    {
     "data": {
      "text/plain": [
       "0.5909997415412804"
      ]
     },
     "execution_count": 28,
     "metadata": {},
     "output_type": "execute_result"
    }
   ],
   "source": [
    "rf_rmse"
   ]
  },
  {
   "cell_type": "code",
   "execution_count": 29,
   "metadata": {},
   "outputs": [],
   "source": [
    "model_results[\"Random Forest\"] = rf_rmse"
   ]
  },
  {
   "cell_type": "markdown",
   "metadata": {},
   "source": [
    "Random Forest is producing very strong results, let's try changing the n_estimators to improve the model"
   ]
  },
  {
   "cell_type": "code",
   "execution_count": 30,
   "metadata": {},
   "outputs": [],
   "source": [
    "results_rf_optimize = {}"
   ]
  },
  {
   "cell_type": "code",
   "execution_count": 32,
   "metadata": {},
   "outputs": [],
   "source": [
    "time_dict = {}"
   ]
  },
  {
   "cell_type": "code",
   "execution_count": 33,
   "metadata": {},
   "outputs": [
    {
     "name": "stdout",
     "output_type": "stream",
     "text": [
      "N: 10 --> 0.59090\n",
      "N: 20 --> 0.57663\n",
      "N: 30 --> 0.57497\n",
      "N: 40 --> 0.57117\n",
      "N: 50 --> 0.56758\n",
      "N: 60 --> 0.56721\n",
      "N: 70 --> 0.56688\n",
      "N: 80 --> 0.56689\n",
      "N: 90 --> 0.56662\n",
      "N: 100 --> 0.56646\n"
     ]
    }
   ],
   "source": [
    "for n in range(10, 101, 10):\n",
    "    start = time.time()\n",
    "    rf_reg = RandomForestRegressor(n_estimators=n, random_state=42, n_jobs=-1)\n",
    "    rf_reg.fit(X_train, y_train)\n",
    "    predictions = roundPred(rf_reg.predict(X_test))\n",
    "    rf_rmse = rmse(test_df[\"meanGrade\"], predictions)\n",
    "    results_rf_optimize[n] = rf_rmse\n",
    "    end = time.time()\n",
    "    time_dict[n]= start-end\n",
    "    print(f\"N: {n} --> {rf_rmse:.5f}\")"
   ]
  },
  {
   "cell_type": "markdown",
   "metadata": {},
   "source": [
    "Graph the results from the Random Forest Regressor"
   ]
  },
  {
   "cell_type": "code",
   "execution_count": 34,
   "metadata": {},
   "outputs": [
    {
     "data": {
      "image/png": "[encoded data removed]",
      "text/plain": [
       "<Figure size 432x288 with 1 Axes>"
      ]
     },
     "metadata": {},
     "output_type": "display_data"
    }
   ],
   "source": [
    "results_df = (\n",
    "    pd.DataFrame(results_rf_optimize.items(), columns=[\"n_estimators\", \"RMSE\"])\n",
    "    .sort_values(\"n_estimators\")\n",
    "    .reset_index(drop=True)\n",
    ")\n",
    "ax = sns.lineplot(x=\"n_estimators\", y=\"RMSE\", data=results_df, color=\"b\")\n",
    "plt.suptitle(\"Random Forest Regressor\\nRMSE per # of Estimators\", fontsize=16)\n",
    "ax.set_xlabel(\"N Estimators\", fontsize=15)\n",
    "ax.set_ylabel(\"RMSE\", fontsize=15)\n",
    "ax.xaxis.set_tick_params(labelsize=13)\n",
    "ax.yaxis.set_tick_params(labelsize=13)"
   ]
  },
  {
   "cell_type": "code",
   "execution_count": 35,
   "metadata": {},
   "outputs": [
    {
     "data": {
      "text/plain": [
       "<matplotlib.legend.Legend at 0x1b4be8b110>"
      ]
     },
     "execution_count": 35,
     "metadata": {},
     "output_type": "execute_result"
    },
    {
     "data": {
      "image/png": "[encoded data removed]",
      "text/plain": [
       "<Figure size 432x288 with 2 Axes>"
      ]
     },
     "metadata": {},
     "output_type": "display_data"
    }
   ],
   "source": [
    "time_df = (\n",
    "    pd.DataFrame(time_dict.items(), columns=[\"n_estimators\", \"time\"])\n",
    "    .sort_values(\"time\")\n",
    "    .reset_index(drop=True)\n",
    ")\n",
    "time_df[\"time\"] = time_df[\"time\"].apply(lambda x: abs(x))\n",
    "\n",
    "fig = plt.figure()\n",
    "ax1 = fig.add_subplot(111)\n",
    "ln1 = ax1.plot(results_df[\"n_estimators\"], results_df[\"RMSE\"], color='b', label=\"RMSE\")\n",
    "ax2 = ax1.twinx()\n",
    "ln2 = ax2.bar(time_df[\"n_estimators\"], time_df[\"time\"], color='r', width = 2, label=\"time\")\n",
    "ax2.grid(False)\n",
    "plt.suptitle(\"Random Forest Regressor\\nRMSE per # of Estimators\", fontsize=16)\n",
    "ax1.set_xlabel(\"N Estimators\", fontsize=15)\n",
    "ax1.set_ylabel(\"RMSE\", fontsize=15)\n",
    "ax2.set_ylabel(\"Time (Seconds)\", fontsize=15)\n",
    "ax1.xaxis.set_tick_params(labelsize=13)\n",
    "ax1.yaxis.set_tick_params(labelsize=13)\n",
    "ax1.legend(loc = (.15,.9), frameon = True)\n",
    "ax2.legend( loc = (.15, .8), frameon = True)"
   ]
  },
  {
   "cell_type": "code",
   "execution_count": 36,
   "metadata": {},
   "outputs": [
    {
     "data": {
      "text/html": [
       "<div>\n",
       "<style scoped>\n",
       "    .dataframe tbody tr th:only-of-type {\n",
       "        vertical-align: middle;\n",
       "    }\n",
       "\n",
       "    .dataframe tbody tr th {\n",
       "        vertical-align: top;\n",
       "    }\n",
       "\n",
       "    .dataframe thead th {\n",
       "        text-align: right;\n",
       "    }\n",
       "</style>\n",
       "<table border=\"1\" class=\"dataframe\">\n",
       "  <thead>\n",
       "    <tr style=\"text-align: right;\">\n",
       "      <th></th>\n",
       "      <th>n_estimators</th>\n",
       "      <th>RMSE</th>\n",
       "    </tr>\n",
       "  </thead>\n",
       "  <tbody>\n",
       "    <tr>\n",
       "      <td>9</td>\n",
       "      <td>100</td>\n",
       "      <td>0.566456</td>\n",
       "    </tr>\n",
       "  </tbody>\n",
       "</table>\n",
       "</div>"
      ],
      "text/plain": [
       "   n_estimators      RMSE\n",
       "9           100  0.566456"
      ]
     },
     "execution_count": 36,
     "metadata": {},
     "output_type": "execute_result"
    }
   ],
   "source": [
    "results_df.sort_values(\"RMSE\").head(1)"
   ]
  },
  {
   "cell_type": "code",
   "execution_count": 37,
   "metadata": {},
   "outputs": [],
   "source": [
    "model_results[\"Random Forest\"] = results_df.sort_values(\"RMSE\").head(1).iloc[0][\"RMSE\"]"
   ]
  },
  {
   "cell_type": "markdown",
   "metadata": {},
   "source": [
    "### Ada Boost Regressor"
   ]
  },
  {
   "cell_type": "code",
   "execution_count": 38,
   "metadata": {},
   "outputs": [],
   "source": [
    "ada_results_optimize = {}"
   ]
  },
  {
   "cell_type": "code",
   "execution_count": 39,
   "metadata": {},
   "outputs": [
    {
     "name": "stdout",
     "output_type": "stream",
     "text": [
      "N: 10 --> 0.57104\n",
      "N: 20 --> 0.57164\n",
      "N: 30 --> 0.57164\n",
      "N: 40 --> 0.57164\n",
      "N: 50 --> 0.57164\n"
     ]
    }
   ],
   "source": [
    "for n in range(10, 51, 10):\n",
    "    ada_reg = AdaBoostRegressor(\n",
    "        base_estimator=DecisionTreeRegressor(max_depth=3, random_state=42),\n",
    "        n_estimators=n,\n",
    "        random_state=42,\n",
    "        loss=\"linear\",\n",
    "    )\n",
    "    ada_reg.fit(X_train, y_train)\n",
    "    predictions = roundPred(ada_reg.predict(X_test))\n",
    "    ada_rmse = rmse(test_df[\"meanGrade\"], predictions)\n",
    "    ada_results_optimize[n] = ada_rmse\n",
    "    print(f\"N: {n} --> {ada_rmse:.5f}\")"
   ]
  },
  {
   "cell_type": "code",
   "execution_count": 40,
   "metadata": {},
   "outputs": [
    {
     "data": {
      "image/png": "[encoded data removed]",
      "text/plain": [
       "<Figure size 432x288 with 1 Axes>"
      ]
     },
     "metadata": {},
     "output_type": "display_data"
    }
   ],
   "source": [
    "ada_results_df = (\n",
    "    pd.DataFrame(ada_results_optimize.items(), columns=[\"n_estimators\", \"RMSE\"])\n",
    "    .sort_values(\"n_estimators\")\n",
    "    .reset_index(drop=True)\n",
    ")\n",
    "ax = sns.lineplot(x=\"n_estimators\", y=\"RMSE\", data=ada_results_df)\n",
    "plt.suptitle(\"AdaBoost Regressor\\nRMSE per # of Estimators\", fontsize=16)\n",
    "ax.set_xlabel(\"N Estimators\", fontsize=15)\n",
    "ax.set_ylabel(\"RMSE\", fontsize=15)\n",
    "ax.xaxis.set_tick_params(labelsize=13)\n",
    "ax.yaxis.set_tick_params(labelsize=13)"
   ]
  },
  {
   "cell_type": "code",
   "execution_count": 41,
   "metadata": {},
   "outputs": [
    {
     "data": {
      "text/html": [
       "<div>\n",
       "<style scoped>\n",
       "    .dataframe tbody tr th:only-of-type {\n",
       "        vertical-align: middle;\n",
       "    }\n",
       "\n",
       "    .dataframe tbody tr th {\n",
       "        vertical-align: top;\n",
       "    }\n",
       "\n",
       "    .dataframe thead th {\n",
       "        text-align: right;\n",
       "    }\n",
       "</style>\n",
       "<table border=\"1\" class=\"dataframe\">\n",
       "  <thead>\n",
       "    <tr style=\"text-align: right;\">\n",
       "      <th></th>\n",
       "      <th>n_estimators</th>\n",
       "      <th>RMSE</th>\n",
       "    </tr>\n",
       "  </thead>\n",
       "  <tbody>\n",
       "    <tr>\n",
       "      <td>0</td>\n",
       "      <td>10</td>\n",
       "      <td>0.571035</td>\n",
       "    </tr>\n",
       "  </tbody>\n",
       "</table>\n",
       "</div>"
      ],
      "text/plain": [
       "   n_estimators      RMSE\n",
       "0            10  0.571035"
      ]
     },
     "execution_count": 41,
     "metadata": {},
     "output_type": "execute_result"
    }
   ],
   "source": [
    "ada_results_df.sort_values(\"RMSE\").head(1)"
   ]
  },
  {
   "cell_type": "code",
   "execution_count": 42,
   "metadata": {},
   "outputs": [],
   "source": [
    "model_results[\"Ada Boost\"] = ada_results_df.sort_values(\"RMSE\").head(1).iloc[0][\"RMSE\"]"
   ]
  },
  {
   "cell_type": "markdown",
   "metadata": {},
   "source": [
    "### BayesianRidge"
   ]
  },
  {
   "cell_type": "code",
   "execution_count": 44,
   "metadata": {},
   "outputs": [
    {
     "data": {
      "text/plain": [
       "BayesianRidge(alpha_1=1e-06, alpha_2=1e-06, alpha_init=None,\n",
       "              compute_score=False, copy_X=True, fit_intercept=True,\n",
       "              lambda_1=1e-06, lambda_2=1e-06, lambda_init=None, n_iter=300,\n",
       "              normalize=True, tol=1e-20, verbose=2)"
      ]
     },
     "execution_count": 44,
     "metadata": {},
     "output_type": "execute_result"
    }
   ],
   "source": [
    "bay_reg = BayesianRidge(tol=1e-20, verbose=2, normalize=True)\n",
    "bay_reg.fit(X_train, y_train)"
   ]
  },
  {
   "cell_type": "code",
   "execution_count": 45,
   "metadata": {
    "scrolled": true
   },
   "outputs": [],
   "source": [
    "predictions = roundPred(bay_reg.predict(X_test))"
   ]
  },
  {
   "cell_type": "code",
   "execution_count": 46,
   "metadata": {},
   "outputs": [],
   "source": [
    "bay_ridge_rmse = rmse(test_df[\"meanGrade\"], predictions)"
   ]
  },
  {
   "cell_type": "code",
   "execution_count": 47,
   "metadata": {},
   "outputs": [
    {
     "data": {
      "text/plain": [
       "0.5540858792976411"
      ]
     },
     "execution_count": 47,
     "metadata": {},
     "output_type": "execute_result"
    }
   ],
   "source": [
    "bay_ridge_rmse"
   ]
  },
  {
   "cell_type": "code",
   "execution_count": 48,
   "metadata": {},
   "outputs": [],
   "source": [
    "model_results[\"Bayesian Ridge\"] = bay_ridge_rmse"
   ]
  },
  {
   "cell_type": "markdown",
   "metadata": {},
   "source": [
    "### Histogram Gradient Regressor"
   ]
  },
  {
   "cell_type": "code",
   "execution_count": 49,
   "metadata": {
    "scrolled": true
   },
   "outputs": [
    {
     "name": "stdout",
     "output_type": "stream",
     "text": [
      "Binning 0.046 GB of training data: 0.822 s\n",
      "Fitting gradient boosted rounds:\n",
      "[1/100] 1 tree, 31 leaves, max depth = 8, in 0.202s\n",
      "[2/100] 1 tree, 31 leaves, max depth = 8, in 0.200s\n",
      "[3/100] 1 tree, 31 leaves, max depth = 8, in 0.203s\n",
      "[4/100] 1 tree, 31 leaves, max depth = 10, in 0.135s\n",
      "[5/100] 1 tree, 31 leaves, max depth = 10, in 0.095s\n",
      "[6/100] 1 tree, 31 leaves, max depth = 10, in 0.106s\n",
      "[7/100] 1 tree, 31 leaves, max depth = 12, in 0.127s\n",
      "[8/100] 1 tree, 31 leaves, max depth = 7, in 0.143s\n",
      "[9/100] 1 tree, 31 leaves, max depth = 9, in 0.125s\n",
      "[10/100] 1 tree, 31 leaves, max depth = 10, in 0.136s\n",
      "[11/100] 1 tree, 31 leaves, max depth = 10, in 0.130s\n",
      "[12/100] 1 tree, 31 leaves, max depth = 9, in 0.155s\n",
      "[13/100] 1 tree, 31 leaves, max depth = 9, in 0.180s\n",
      "[14/100] 1 tree, 31 leaves, max depth = 13, in 0.146s\n",
      "[15/100] 1 tree, 31 leaves, max depth = 12, in 0.126s\n",
      "[16/100] 1 tree, 31 leaves, max depth = 9, in 0.136s\n",
      "[17/100] 1 tree, 31 leaves, max depth = 10, in 0.180s\n",
      "[18/100] 1 tree, 31 leaves, max depth = 10, in 0.317s\n",
      "[19/100] 1 tree, 31 leaves, max depth = 8, in 0.091s\n",
      "[20/100] 1 tree, 31 leaves, max depth = 11, in 0.083s\n",
      "[21/100] 1 tree, 31 leaves, max depth = 8, in 0.095s\n",
      "[22/100] 1 tree, 31 leaves, max depth = 13, in 0.083s\n",
      "[23/100] 1 tree, 31 leaves, max depth = 10, in 0.095s\n",
      "[24/100] 1 tree, 31 leaves, max depth = 8, in 0.088s\n",
      "[25/100] 1 tree, 31 leaves, max depth = 8, in 0.099s\n",
      "[26/100] 1 tree, 31 leaves, max depth = 12, in 0.091s\n",
      "[27/100] 1 tree, 31 leaves, max depth = 12, in 0.089s\n",
      "[28/100] 1 tree, 31 leaves, max depth = 10, in 0.100s\n",
      "[29/100] 1 tree, 31 leaves, max depth = 10, in 0.091s\n",
      "[30/100] 1 tree, 31 leaves, max depth = 9, in 0.108s\n",
      "[31/100] 1 tree, 31 leaves, max depth = 11, in 0.099s\n",
      "[32/100] 1 tree, 31 leaves, max depth = 9, in 0.126s\n",
      "[33/100] 1 tree, 31 leaves, max depth = 10, in 0.170s\n",
      "[34/100] 1 tree, 31 leaves, max depth = 10, in 0.168s\n",
      "[35/100] 1 tree, 31 leaves, max depth = 9, in 0.141s\n",
      "[36/100] 1 tree, 31 leaves, max depth = 12, in 0.146s\n",
      "[37/100] 1 tree, 31 leaves, max depth = 12, in 0.126s\n",
      "[38/100] 1 tree, 31 leaves, max depth = 12, in 0.383s\n",
      "[39/100] 1 tree, 31 leaves, max depth = 10, in 0.086s\n",
      "[40/100] 1 tree, 31 leaves, max depth = 9, in 0.084s\n",
      "[41/100] 1 tree, 31 leaves, max depth = 13, in 0.084s\n",
      "[42/100] 1 tree, 31 leaves, max depth = 11, in 0.083s\n",
      "[43/100] 1 tree, 31 leaves, max depth = 9, in 0.096s\n",
      "[44/100] 1 tree, 31 leaves, max depth = 11, in 0.089s\n",
      "[45/100] 1 tree, 31 leaves, max depth = 10, in 0.102s\n",
      "[46/100] 1 tree, 31 leaves, max depth = 15, in 0.087s\n",
      "[47/100] 1 tree, 31 leaves, max depth = 11, in 0.091s\n",
      "[48/100] 1 tree, 31 leaves, max depth = 12, in 0.099s\n",
      "[49/100] 1 tree, 31 leaves, max depth = 7, in 0.083s\n",
      "[50/100] 1 tree, 31 leaves, max depth = 10, in 0.095s\n",
      "[51/100] 1 tree, 31 leaves, max depth = 11, in 0.081s\n",
      "[52/100] 1 tree, 31 leaves, max depth = 16, in 0.092s\n",
      "[53/100] 1 tree, 31 leaves, max depth = 9, in 0.085s\n",
      "[54/100] 1 tree, 31 leaves, max depth = 11, in 0.083s\n",
      "[55/100] 1 tree, 31 leaves, max depth = 11, in 0.089s\n",
      "[56/100] 1 tree, 31 leaves, max depth = 10, in 0.085s\n",
      "[57/100] 1 tree, 31 leaves, max depth = 11, in 0.097s\n",
      "[58/100] 1 tree, 31 leaves, max depth = 12, in 0.106s\n",
      "[59/100] 1 tree, 31 leaves, max depth = 8, in 0.298s\n",
      "[60/100] 1 tree, 31 leaves, max depth = 11, in 0.090s\n",
      "[61/100] 1 tree, 31 leaves, max depth = 10, in 0.079s\n",
      "[62/100] 1 tree, 31 leaves, max depth = 12, in 0.087s\n",
      "[63/100] 1 tree, 31 leaves, max depth = 14, in 0.080s\n",
      "[64/100] 1 tree, 31 leaves, max depth = 11, in 0.083s\n",
      "[65/100] 1 tree, 31 leaves, max depth = 12, in 0.082s\n",
      "[66/100] 1 tree, 31 leaves, max depth = 10, in 0.089s\n",
      "[67/100] 1 tree, 31 leaves, max depth = 12, in 0.079s\n",
      "[68/100] 1 tree, 31 leaves, max depth = 11, in 0.099s\n",
      "[69/100] 1 tree, 31 leaves, max depth = 12, in 0.078s\n",
      "[70/100] 1 tree, 31 leaves, max depth = 10, in 0.090s\n",
      "[71/100] 1 tree, 31 leaves, max depth = 11, in 0.091s\n",
      "[72/100] 1 tree, 31 leaves, max depth = 10, in 0.085s\n",
      "[73/100] 1 tree, 31 leaves, max depth = 10, in 0.091s\n",
      "[74/100] 1 tree, 31 leaves, max depth = 14, in 0.083s\n",
      "[75/100] 1 tree, 31 leaves, max depth = 12, in 0.096s\n",
      "[76/100] 1 tree, 31 leaves, max depth = 9, in 0.087s\n",
      "[77/100] 1 tree, 31 leaves, max depth = 10, in 0.083s\n",
      "[78/100] 1 tree, 31 leaves, max depth = 9, in 0.105s\n",
      "[79/100] 1 tree, 31 leaves, max depth = 10, in 0.087s\n",
      "[80/100] 1 tree, 31 leaves, max depth = 12, in 0.351s\n",
      "[81/100] 1 tree, 31 leaves, max depth = 12, in 0.076s\n",
      "[82/100] 1 tree, 31 leaves, max depth = 9, in 0.078s\n",
      "[83/100] 1 tree, 31 leaves, max depth = 9, in 0.078s\n",
      "[84/100] 1 tree, 31 leaves, max depth = 11, in 0.087s\n",
      "[85/100] 1 tree, 31 leaves, max depth = 10, in 0.083s\n",
      "[86/100] 1 tree, 31 leaves, max depth = 9, in 0.081s\n",
      "[87/100] 1 tree, 31 leaves, max depth = 11, in 0.091s\n",
      "[88/100] 1 tree, 31 leaves, max depth = 9, in 0.072s\n",
      "[89/100] 1 tree, 31 leaves, max depth = 14, in 0.088s\n",
      "[90/100] 1 tree, 31 leaves, max depth = 9, in 0.076s\n",
      "[91/100] 1 tree, 31 leaves, max depth = 9, in 0.082s\n",
      "[92/100] 1 tree, 31 leaves, max depth = 11, in 0.082s\n",
      "[93/100] 1 tree, 31 leaves, max depth = 12, in 0.091s\n",
      "[94/100] 1 tree, 31 leaves, max depth = 11, in 0.086s\n",
      "[95/100] 1 tree, 31 leaves, max depth = 10, in 0.081s\n",
      "[96/100] 1 tree, 31 leaves, max depth = 10, in 0.098s\n",
      "[97/100] 1 tree, 31 leaves, max depth = 8, in 0.085s\n",
      "[98/100] 1 tree, 31 leaves, max depth = 11, in 0.098s\n",
      "[99/100] 1 tree, 31 leaves, max depth = 10, in 0.074s\n",
      "[100/100] 1 tree, 31 leaves, max depth = 10, in 0.096s\n",
      "Fit 100 trees in 12.043 s, (3100 total leaves)\n",
      "Time spent computing histograms: 7.611s\n",
      "Time spent finding best splits:  1.359s\n",
      "Time spent applying splits:      1.272s\n",
      "Time spent predicting:           0.012s\n"
     ]
    },
    {
     "data": {
      "text/plain": [
       "HistGradientBoostingRegressor(l2_regularization=0.0, learning_rate=0.1,\n",
       "                              loss='least_squares', max_bins=255,\n",
       "                              max_depth=None, max_iter=100, max_leaf_nodes=31,\n",
       "                              min_samples_leaf=20, n_iter_no_change=None,\n",
       "                              random_state=42, scoring=None, tol=1e-07,\n",
       "                              validation_fraction=0.1, verbose=1,\n",
       "                              warm_start=False)"
      ]
     },
     "execution_count": 49,
     "metadata": {},
     "output_type": "execute_result"
    }
   ],
   "source": [
    "hist_reg = HistGradientBoostingRegressor(verbose=1, random_state=42)\n",
    "hist_reg.fit(X_train, y_train)"
   ]
  },
  {
   "cell_type": "code",
   "execution_count": 50,
   "metadata": {},
   "outputs": [],
   "source": [
    "predictions = roundPred(hist_reg.predict(X_test))"
   ]
  },
  {
   "cell_type": "code",
   "execution_count": 51,
   "metadata": {},
   "outputs": [],
   "source": [
    "hist_grad_rmse = rmse(test_df[\"meanGrade\"], predictions)"
   ]
  },
  {
   "cell_type": "code",
   "execution_count": 52,
   "metadata": {},
   "outputs": [
    {
     "data": {
      "text/plain": [
       "0.5618393874702442"
      ]
     },
     "execution_count": 52,
     "metadata": {},
     "output_type": "execute_result"
    }
   ],
   "source": [
    "hist_grad_rmse"
   ]
  },
  {
   "cell_type": "code",
   "execution_count": 53,
   "metadata": {},
   "outputs": [],
   "source": [
    "model_results[\"Histogram Gradient\"] = hist_grad_rmse"
   ]
  },
  {
   "cell_type": "markdown",
   "metadata": {},
   "source": [
    "### Linear Regression"
   ]
  },
  {
   "cell_type": "code",
   "execution_count": 55,
   "metadata": {},
   "outputs": [
    {
     "data": {
      "text/plain": [
       "LinearRegression(copy_X=True, fit_intercept=True, n_jobs=None, normalize=False)"
      ]
     },
     "execution_count": 55,
     "metadata": {},
     "output_type": "execute_result"
    }
   ],
   "source": [
    "lin_reg = LinearRegression()\n",
    "lin_reg.fit(X_train, y_train)"
   ]
  },
  {
   "cell_type": "code",
   "execution_count": 56,
   "metadata": {},
   "outputs": [],
   "source": [
    "predictions = roundPred(lin_reg.predict(X_test))"
   ]
  },
  {
   "cell_type": "code",
   "execution_count": 57,
   "metadata": {},
   "outputs": [],
   "source": [
    "lin_reg_rmse = rmse(y_test, predictions)"
   ]
  },
  {
   "cell_type": "code",
   "execution_count": 58,
   "metadata": {},
   "outputs": [
    {
     "data": {
      "text/plain": [
       "0.5590992578756385"
      ]
     },
     "execution_count": 58,
     "metadata": {},
     "output_type": "execute_result"
    }
   ],
   "source": [
    "lin_reg_rmse"
   ]
  },
  {
   "cell_type": "code",
   "execution_count": 59,
   "metadata": {},
   "outputs": [],
   "source": [
    "model_results[\"Linear Regression\"] = lin_reg_rmse"
   ]
  },
  {
   "cell_type": "markdown",
   "metadata": {},
   "source": [
    "### Logistic Regression"
   ]
  },
  {
   "cell_type": "code",
   "execution_count": 62,
   "metadata": {},
   "outputs": [
    {
     "name": "stderr",
     "output_type": "stream",
     "text": [
      "[Parallel(n_jobs=-1)]: Using backend LokyBackend with 12 concurrent workers.\n",
      "[Parallel(n_jobs=-1)]: Done   1 out of   1 | elapsed:    6.8s finished\n"
     ]
    },
    {
     "data": {
      "text/plain": [
       "LogisticRegression(C=1.0, class_weight=None, dual=False, fit_intercept=True,\n",
       "                   intercept_scaling=1, l1_ratio=None, max_iter=100,\n",
       "                   multi_class='auto', n_jobs=-1, penalty='l2', random_state=42,\n",
       "                   solver='lbfgs', tol=0.0001, verbose=1, warm_start=False)"
      ]
     },
     "execution_count": 62,
     "metadata": {},
     "output_type": "execute_result"
    }
   ],
   "source": [
    "log_reg = LogisticRegression(n_jobs=-1, verbose=1, random_state=42)\n",
    "log_reg.fit(X_train, y_train_int)"
   ]
  },
  {
   "cell_type": "code",
   "execution_count": 63,
   "metadata": {},
   "outputs": [],
   "source": [
    "predictions = roundPred(log_reg.predict(X_test))"
   ]
  },
  {
   "cell_type": "code",
   "execution_count": 64,
   "metadata": {},
   "outputs": [],
   "source": [
    "log_reg_rmse = rmse(test_df[\"meanGrade\"], np.array(predictions) / 10)"
   ]
  },
  {
   "cell_type": "code",
   "execution_count": 65,
   "metadata": {},
   "outputs": [
    {
     "data": {
      "text/plain": [
       "0.6529356229032509"
      ]
     },
     "execution_count": 65,
     "metadata": {},
     "output_type": "execute_result"
    }
   ],
   "source": [
    "log_reg_rmse"
   ]
  },
  {
   "cell_type": "code",
   "execution_count": 66,
   "metadata": {},
   "outputs": [],
   "source": [
    "model_results[\"Logistic Regression\"] = log_reg_rmse"
   ]
  },
  {
   "cell_type": "markdown",
   "metadata": {},
   "source": [
    "### SVM"
   ]
  },
  {
   "cell_type": "markdown",
   "metadata": {},
   "source": [
    "#### Linear SVR"
   ]
  },
  {
   "cell_type": "code",
   "execution_count": 67,
   "metadata": {},
   "outputs": [
    {
     "data": {
      "text/plain": [
       "LinearSVR(C=1.0, dual=True, epsilon=0.0, fit_intercept=True,\n",
       "          intercept_scaling=1.0, loss='epsilon_insensitive', max_iter=1000,\n",
       "          random_state=42, tol=0.0001, verbose=0)"
      ]
     },
     "execution_count": 67,
     "metadata": {},
     "output_type": "execute_result"
    }
   ],
   "source": [
    "lin_svr = LinearSVR(random_state=42)\n",
    "lin_svr.fit(X_train, y_train)"
   ]
  },
  {
   "cell_type": "code",
   "execution_count": 68,
   "metadata": {},
   "outputs": [],
   "source": [
    "predictions = roundPred(lin_svr.predict(X_test))\n",
    "lin_svr_rmse = rmse(y_test, predictions)"
   ]
  },
  {
   "cell_type": "code",
   "execution_count": 69,
   "metadata": {},
   "outputs": [
    {
     "data": {
      "text/plain": [
       "0.5699916232712734"
      ]
     },
     "execution_count": 69,
     "metadata": {},
     "output_type": "execute_result"
    }
   ],
   "source": [
    "lin_svr_rmse"
   ]
  },
  {
   "cell_type": "code",
   "execution_count": 70,
   "metadata": {},
   "outputs": [],
   "source": [
    "model_results[\"Linear SVR\"] = lin_svr_rmse"
   ]
  },
  {
   "cell_type": "markdown",
   "metadata": {},
   "source": [
    "#### NuSVR"
   ]
  },
  {
   "cell_type": "code",
   "execution_count": 71,
   "metadata": {},
   "outputs": [
    {
     "data": {
      "text/plain": [
       "NuSVR(C=1.0, cache_size=200, coef0=0.0, degree=3, gamma='scale', kernel='rbf',\n",
       "      max_iter=-1, nu=0.5, shrinking=True, tol=0.001, verbose=False)"
      ]
     },
     "execution_count": 71,
     "metadata": {},
     "output_type": "execute_result"
    }
   ],
   "source": [
    "nu_svr = NuSVR()\n",
    "nu_svr.fit(X_train, y_train)"
   ]
  },
  {
   "cell_type": "code",
   "execution_count": 72,
   "metadata": {},
   "outputs": [],
   "source": [
    "predictions = roundPred(nu_svr.predict(X_test))\n",
    "nu_svr_rmse = rmse(y_test, predictions)"
   ]
  },
  {
   "cell_type": "code",
   "execution_count": 73,
   "metadata": {},
   "outputs": [
    {
     "data": {
      "text/plain": [
       "0.5521726039374516"
      ]
     },
     "execution_count": 73,
     "metadata": {},
     "output_type": "execute_result"
    }
   ],
   "source": [
    "nu_svr_rmse"
   ]
  },
  {
   "cell_type": "code",
   "execution_count": 74,
   "metadata": {},
   "outputs": [],
   "source": [
    "model_results[\"NuSVR\"] = nu_svr_rmse"
   ]
  },
  {
   "cell_type": "markdown",
   "metadata": {},
   "source": [
    "#### SVR"
   ]
  },
  {
   "cell_type": "code",
   "execution_count": 75,
   "metadata": {},
   "outputs": [
    {
     "data": {
      "text/plain": [
       "SVR(C=1.0, cache_size=200, coef0=0.0, degree=3, epsilon=0.1, gamma='scale',\n",
       "    kernel='rbf', max_iter=-1, shrinking=True, tol=0.001, verbose=False)"
      ]
     },
     "execution_count": 75,
     "metadata": {},
     "output_type": "execute_result"
    }
   ],
   "source": [
    "svr = SVR()\n",
    "svr.fit(X_train, y_train)"
   ]
  },
  {
   "cell_type": "code",
   "execution_count": 76,
   "metadata": {},
   "outputs": [],
   "source": [
    "predictions = roundPred(svr.predict(X_test))\n",
    "svr_rmse = rmse(y_test, predictions)"
   ]
  },
  {
   "cell_type": "code",
   "execution_count": 77,
   "metadata": {},
   "outputs": [
    {
     "data": {
      "text/plain": [
       "0.5527300801893211"
      ]
     },
     "execution_count": 77,
     "metadata": {},
     "output_type": "execute_result"
    }
   ],
   "source": [
    "svr_rmse"
   ]
  },
  {
   "cell_type": "code",
   "execution_count": 78,
   "metadata": {},
   "outputs": [],
   "source": [
    "model_results[\"SVR\"] = svr_rmse"
   ]
  },
  {
   "cell_type": "markdown",
   "metadata": {},
   "source": [
    "#### SVR Optimize: TBD"
   ]
  },
  {
   "cell_type": "code",
   "execution_count": 79,
   "metadata": {},
   "outputs": [
    {
     "name": "stdout",
     "output_type": "stream",
     "text": [
      "<class 'sklearn.svm._classes.LinearSVR'>\n",
      "0.5558023818968386 \n",
      "\n",
      "<class 'sklearn.svm._classes.NuSVR'>\n",
      "0.5516341988816277 \n",
      "\n",
      "<class 'sklearn.svm._classes.SVR'>\n",
      "0.5511589128085033 \n",
      "\n"
     ]
    }
   ],
   "source": [
    "for svm in [LinearSVR, NuSVR, SVR]:\n",
    "    print(svm)\n",
    "    svm = svm()  # random_state=42)\n",
    "    svm.fit(X_train, y_train_int)\n",
    "    preds = roundPred(svm.predict(X_test))\n",
    "    RMSE = rmse(y_test, np.array(preds) / 10)\n",
    "    print(RMSE, \"\\n\")"
   ]
  },
  {
   "cell_type": "code",
   "execution_count": 80,
   "metadata": {},
   "outputs": [
    {
     "name": "stdout",
     "output_type": "stream",
     "text": [
      "0.1 0.5606621093196757\n",
      "0.2 0.5581836574575311\n",
      "0.3 0.556768343219669\n",
      "0.4 0.5566267698313934\n",
      "0.5 0.5560104150511104\n",
      "0.6 0.5555829982657566\n",
      "0.7 0.5557218248274038\n",
      "0.8 0.5559427895774661\n",
      "0.9 0.5560242068124274\n",
      "1.0 0.555971640153359\n",
      "1.1 0.5560370689014886\n",
      "1.2 0.5562399605905272\n",
      "1.3 0.5567092380160714\n",
      "1.4 0.5566124359784852\n",
      "1.5 0.5568686814682303\n",
      "1.6 0.557251085436292\n",
      "1.7 0.5577123221802608\n",
      "1.8 0.5579010448617142\n",
      "1.9 0.5581258131599179\n",
      "2.0 0.5586126365542273\n"
     ]
    }
   ],
   "source": [
    "for c in range(1, 21, 1):\n",
    "    c = c / 10\n",
    "    svr = LinearSVR(C=c)\n",
    "    svr.fit(X_train, y_train_int)\n",
    "    preds = roundPred(svr.predict(X_test))\n",
    "\n",
    "    RMSE = rmse(test_df[\"meanGrade\"], (np.array(preds) / 10))\n",
    "    print(c, RMSE)"
   ]
  },
  {
   "cell_type": "code",
   "execution_count": 81,
   "metadata": {},
   "outputs": [],
   "source": [
    "svr_kernel = {}"
   ]
  },
  {
   "cell_type": "code",
   "execution_count": 106,
   "metadata": {},
   "outputs": [
    {
     "name": "stdout",
     "output_type": "stream",
     "text": [
      "linear: 0.55577\n",
      "poly: 0.56058\n",
      "rbf: 0.55116\n",
      "sigmoid: 0.60396\n"
     ]
    }
   ],
   "source": [
    "for kernel in [\"linear\", \"poly\", \"rbf\", \"sigmoid\"]:\n",
    "    svr = SVR(kernel=kernel)\n",
    "    svr.fit(X_train, y_train_int)\n",
    "    preds = roundPred(svr.predict(X_test))\n",
    "    \n",
    "    RMSE = rmse(test_df[\"meanGrade\"], (np.array(preds) / 10))\n",
    "    svr_kernel[kernel] = RMSE\n",
    "    print(f\"{kernel}: {RMSE:.5f}\")"
   ]
  },
  {
   "cell_type": "code",
   "execution_count": 83,
   "metadata": {},
   "outputs": [
    {
     "data": {
      "image/png": "[encoded data removed]",
      "text/plain": [
       "<Figure size 432x288 with 1 Axes>"
      ]
     },
     "metadata": {},
     "output_type": "display_data"
    }
   ],
   "source": [
    "ax = sns.barplot(x=list(svr_kernel.keys()), y=list(svr_kernel.values()))\n",
    "# plt.setp(ax.get_xticklabels(), rotation=90);\n",
    "plt.ylim(.5,.62);\n",
    "ax.xaxis.set_tick_params(labelsize=14)\n",
    "ax.yaxis.set_tick_params(labelsize=14)\n",
    "ax.set_xlabel('Kernel', fontsize=15);\n",
    "ax.set_ylabel('RMSE', fontsize=15);\n",
    "ax.set_title(\"RMSE for Different SVR Kernels\", fontsize=16);"
   ]
  },
  {
   "cell_type": "markdown",
   "metadata": {},
   "source": [
    "Best kernel is rbf"
   ]
  },
  {
   "cell_type": "code",
   "execution_count": 84,
   "metadata": {},
   "outputs": [],
   "source": [
    "svr_rbf_c_results = {}"
   ]
  },
  {
   "cell_type": "code",
   "execution_count": 85,
   "metadata": {},
   "outputs": [
    {
     "name": "stdout",
     "output_type": "stream",
     "text": [
      "0.2 0.5641146890388665\n",
      "0.4 0.5585590553128766\n",
      "0.6 0.5552025353977704\n",
      "0.8 0.5527034164508379\n",
      "1.0 0.5511589128085033\n",
      "1.2 0.5499231409335947\n",
      "1.4 0.5489826737003183\n",
      "1.6 0.5481028952623372\n",
      "1.8 0.5475921965520323\n",
      "2.0 0.5471088655739208\n",
      "2.2 0.5465776872973718\n",
      "2.4 0.5463603878565576\n",
      "2.6 0.546268941179673\n",
      "2.8 0.5461571564306953\n",
      "3.0 0.5459578624749176\n",
      "3.2 0.5458815702277782\n",
      "3.4 0.5460253996669373\n",
      "3.6 0.5459404089609231\n",
      "3.8 0.5461546586089857\n",
      "4.0 0.5462676546877747\n"
     ]
    }
   ],
   "source": [
    "for c in range(2, 41, 2):\n",
    "    c = c / 10\n",
    "    svr = SVR(kernel=\"rbf\",C=c)\n",
    "    svr.fit(X_train, y_train_int)\n",
    "    preds = roundPred(svr.predict(X_test))\n",
    "\n",
    "    RMSE = rmse(test_df[\"meanGrade\"], (np.array(preds) / 10))\n",
    "    svr_rbf_c_results[c] = RMSE\n",
    "    print(c, RMSE)"
   ]
  },
  {
   "cell_type": "code",
   "execution_count": 86,
   "metadata": {},
   "outputs": [
    {
     "data": {
      "text/plain": [
       "(3.2, 0.5458815702277782)"
      ]
     },
     "execution_count": 86,
     "metadata": {},
     "output_type": "execute_result"
    }
   ],
   "source": [
    "sorted(svr_rbf_c_results.items(), key=lambda x: x[1])[0]"
   ]
  },
  {
   "cell_type": "code",
   "execution_count": 87,
   "metadata": {},
   "outputs": [
    {
     "data": {
      "image/png": "[encoded data removed]",
      "text/plain": [
       "<Figure size 432x288 with 1 Axes>"
      ]
     },
     "metadata": {},
     "output_type": "display_data"
    }
   ],
   "source": [
    "svr_rbf_c_results_df = (\n",
    "    pd.DataFrame(svr_rbf_c_results.items(), columns=[\"C\", \"RMSE\"])\n",
    "    .sort_values(\"C\")\n",
    "    .reset_index(drop=True)\n",
    ")\n",
    "ax = sns.lineplot(x=\"C\", y=\"RMSE\", data=svr_rbf_c_results_df, color=\"b\")\n",
    "plt.suptitle(\"SVR RBF Kernel\\nRMSE per C\", fontsize=16)\n",
    "ax.set_xlabel(\"C\", fontsize=15)\n",
    "ax.set_ylabel(\"RMSE\", fontsize=15)\n",
    "ax.xaxis.set_tick_params(labelsize=13)\n",
    "ax.yaxis.set_tick_params(labelsize=13)"
   ]
  },
  {
   "cell_type": "code",
   "execution_count": 88,
   "metadata": {},
   "outputs": [],
   "source": [
    "svr_rbf_epsilon_results = {}"
   ]
  },
  {
   "cell_type": "code",
   "execution_count": 89,
   "metadata": {},
   "outputs": [
    {
     "name": "stdout",
     "output_type": "stream",
     "text": [
      "0.1 0.5454717570912433\n",
      "0.2 0.5460800214533659\n",
      "0.3 0.5460931934573725\n",
      "0.4 0.5463488490908097\n",
      "0.5 0.5483195418430101\n",
      "0.6 0.5504506778442083\n",
      "0.7 0.5540773738880254\n",
      "0.8 0.5606534824720345\n",
      "0.9 0.5708684810479461\n",
      "1.0 0.585588816569932\n"
     ]
    }
   ],
   "source": [
    "for e in range(1, 11, 1):\n",
    "    epsilon = e / 10\n",
    "    svr = SVR(kernel=\"rbf\",C=3.2, epsilon=e)\n",
    "    svr.fit(X_train, y_train_int)\n",
    "    preds = roundPred(svr.predict(X_test))\n",
    "\n",
    "    RMSE = rmse(test_df[\"meanGrade\"], (np.array(preds) / 10))\n",
    "    svr_rbf_epsilon_results[epsilon] = RMSE\n",
    "    print(epsilon, RMSE)"
   ]
  },
  {
   "cell_type": "code",
   "execution_count": 90,
   "metadata": {},
   "outputs": [
    {
     "data": {
      "image/png": "[encoded data removed]",
      "text/plain": [
       "<Figure size 432x288 with 1 Axes>"
      ]
     },
     "metadata": {},
     "output_type": "display_data"
    }
   ],
   "source": [
    "svr_rbf_epsilon_results_df = (\n",
    "    pd.DataFrame(svr_rbf_epsilon_results.items(), columns=[\"Epsilon\", \"RMSE\"])\n",
    "    .sort_values(\"Epsilon\")\n",
    "    .reset_index(drop=True)\n",
    ")\n",
    "ax = sns.lineplot(x=\"Epsilon\", y=\"RMSE\", data=svr_rbf_epsilon_results_df, color=\"b\")\n",
    "plt.suptitle(\"SVR RBF Kernel\\nRMSE per Epsilon\", fontsize=16)\n",
    "ax.set_xlabel(\"Epsilon\", fontsize=15)\n",
    "ax.set_ylabel(\"RMSE\", fontsize=15)\n",
    "ax.xaxis.set_tick_params(labelsize=13)\n",
    "ax.yaxis.set_tick_params(labelsize=13)"
   ]
  },
  {
   "cell_type": "markdown",
   "metadata": {},
   "source": [
    "## Best Model"
   ]
  },
  {
   "cell_type": "markdown",
   "metadata": {},
   "source": [
    "| Parameter | Value   |\n",
    "|-----------|---------|\n",
    "| Model     | SVR     |\n",
    "| Kernel    | rbf     |\n",
    "| C         | 3.2     |\n",
    "| Epsilon   | 0.1     |\n",
    "| RMSE      | 0.54588 |"
   ]
  },
  {
   "cell_type": "code",
   "execution_count": 91,
   "metadata": {},
   "outputs": [
    {
     "name": "stdout",
     "output_type": "stream",
     "text": [
      "Best Model RMSE: 0.54588\n"
     ]
    }
   ],
   "source": [
    "best_model = SVR(kernel=\"rbf\", C=3.2, epsilon=0.1)\n",
    "best_model.fit(X_train, y_train_int)\n",
    "best_predictions = roundPred(best_model.predict(X_test))\n",
    "\n",
    "best_RMSE = rmse(test_df[\"meanGrade\"], (np.array(best_predictions) / 10))\n",
    "print(f\"Best Model RMSE: {best_RMSE:.5f}\")"
   ]
  },
  {
   "cell_type": "code",
   "execution_count": 92,
   "metadata": {},
   "outputs": [],
   "source": [
    "model_results[\"Best Model\"] = best_RMSE"
   ]
  },
  {
   "cell_type": "markdown",
   "metadata": {},
   "source": [
    "## Results to a CSV"
   ]
  },
  {
   "cell_type": "code",
   "execution_count": 93,
   "metadata": {},
   "outputs": [],
   "source": [
    "def preds_to_csv(df, predictions, file_name=\"results/task-1/task-1-output.csv\"):\n",
    "    final_df = pd.DataFrame(df[\"id\"])\n",
    "    if max(predictions) > 3:\n",
    "        predictions = np.array(predictions) / 10\n",
    "    final_df[\"pred\"] = predictions\n",
    "    final_df.to_csv(\"results/task-1/task-1-output.csv\", index=False)\n",
    "    return f\"Final Predictions saved to: {file_name}\""
   ]
  },
  {
   "cell_type": "code",
   "execution_count": 94,
   "metadata": {},
   "outputs": [],
   "source": [
    "# preds_to_csv(test_df, best_predictions)"
   ]
  },
  {
   "cell_type": "markdown",
   "metadata": {},
   "source": [
    "## Data Visualization"
   ]
  },
  {
   "cell_type": "code",
   "execution_count": 96,
   "metadata": {},
   "outputs": [
    {
     "data": {
      "image/png": "[encoded data removed]",
      "text/plain": [
       "<Figure size 432x288 with 1 Axes>"
      ]
     },
     "metadata": {},
     "output_type": "display_data"
    }
   ],
   "source": [
    "data = (\n",
    "    y_train\n",
    "    .value_counts()\n",
    "    .reset_index()\n",
    "    .sort_values(\"index\")\n",
    "    .rename(columns={\"meanGrade\": \"count\", \"index\": \"meanGrade\"})\n",
    ").round(1)\n",
    "\n",
    "ax = sns.barplot(x=\"meanGrade\", y=\"count\", data=data)\n",
    "plt.setp(ax.get_xticklabels(), rotation=90)\n",
    "ax.yaxis.set_tick_params(labelsize=12)\n",
    "ax.set_title(\"Mean Grade for Train Dataset\");"
   ]
  },
  {
   "cell_type": "code",
   "execution_count": 97,
   "metadata": {},
   "outputs": [],
   "source": [
    "baseline_preds = np.array([meanGrade] * len(y_test))"
   ]
  },
  {
   "cell_type": "code",
   "execution_count": 98,
   "metadata": {},
   "outputs": [],
   "source": [
    "y_preds_df = pd.Series(baseline_preds).value_counts().reset_index().rename(columns={\"index\":\"meanGrade\",0:\"Count\"})"
   ]
  },
  {
   "cell_type": "code",
   "execution_count": 99,
   "metadata": {},
   "outputs": [],
   "source": [
    "y_test_df = y_test.value_counts().reset_index().rename(columns={\"index\":\"meanGrade\",\"meanGrade\":\"Count\"})"
   ]
  },
  {
   "cell_type": "code",
   "execution_count": 100,
   "metadata": {},
   "outputs": [
    {
     "data": {
      "image/png": "[encoded data removed]",
      "text/plain": [
       "<Figure size 432x540 with 2 Axes>"
      ]
     },
     "metadata": {},
     "output_type": "display_data"
    }
   ],
   "source": [
    "plt.style.use(['seaborn'])\n",
    "fig, (ax1, ax2) = plt.subplots(nrows=2, ncols=1, figsize=(6,7.5), sharex=True)\n",
    "bar_1 = ax1.bar(y_test_df[\"meanGrade\"], y_test_df[\"Count\"], width=.1)\n",
    "bar_2 = ax2.bar(y_preds_df[\"meanGrade\"], y_preds_df[\"Count\"], width=.1)\n",
    "\n",
    "for i, b in enumerate(bar_1):\n",
    "    b.set_color(plt.cm.viridis(1. * i / (len(y_test_df) - 1)))\n",
    "\n",
    "for i, b in enumerate(bar_2):\n",
    "    b.set_color(plt.cm.viridis(1. * i / (len(y_test_df) - 1)))\n",
    "\n",
    "ax1.set_xlabel(\"\")\n",
    "ax2.set_xlabel(\"meanGrade\", fontsize=14)\n",
    "ax1.set_ylabel(\"Count\", fontsize=14)\n",
    "ax2.set_ylabel(\"Count\", fontsize=14)\n",
    "plt.setp(ax1.get_xticklabels(), rotation=90)\n",
    "plt.setp(ax2.get_xticklabels(), rotation=90)\n",
    "ax1.set_title(\"Actual\", fontsize=14)\n",
    "ax2.set_title(\"Baseline\", fontsize=14)\n",
    "ax2.xaxis.set_tick_params(labelsize=13)\n",
    "ax1.yaxis.set_tick_params(labelsize=13)\n",
    "ax2.yaxis.set_tick_params(labelsize=13)\n",
    "fig.subplots_adjust(hspace=.2)\n",
    "fig.suptitle(\"Actual vs Baseline Grade \\n(Development Data)\", fontsize=16);"
   ]
  },
  {
   "cell_type": "code",
   "execution_count": 101,
   "metadata": {},
   "outputs": [],
   "source": [
    "model_results_df = pd.DataFrame(model_results.items(), columns=[\"Model\",\"RMSE\"]).sort_values(\"RMSE\")"
   ]
  },
  {
   "cell_type": "code",
   "execution_count": 102,
   "metadata": {},
   "outputs": [
    {
     "data": {
      "image/png": "[encoded data removed]",
      "text/plain": [
       "<Figure size 576x396 with 1 Axes>"
      ]
     },
     "metadata": {},
     "output_type": "display_data"
    }
   ],
   "source": [
    "ax = sns.barplot(x=\"Model\", y=\"RMSE\", data=model_results_df)\n",
    "plt.setp(ax.get_xticklabels(), rotation=90);\n",
    "plt.ylim(.5,.66);\n",
    "ax.xaxis.set_tick_params(labelsize=14)\n",
    "ax.yaxis.set_tick_params(labelsize=14)\n",
    "ax.set_xlabel('');\n",
    "ax.set_ylabel('RMSE', fontsize=15);\n",
    "ax.set_title(\"RMSE for Different Models\", fontsize=16);"
   ]
  },
  {
   "cell_type": "code",
   "execution_count": 104,
   "metadata": {},
   "outputs": [],
   "source": [
    "y_best_preds_df = pd.Series(roundPred(np.array(best_predictions) / 10)).value_counts().reset_index().rename(columns={\"index\":\"meanGrade\",0:\"Count\"})"
   ]
  },
  {
   "cell_type": "code",
   "execution_count": 105,
   "metadata": {},
   "outputs": [
    {
     "data": {
      "image/png": "[encoded data removed]",
      "text/plain": [
       "<Figure size 432x540 with 2 Axes>"
      ]
     },
     "metadata": {},
     "output_type": "display_data"
    }
   ],
   "source": [
    "plt.style.use(['seaborn'])\n",
    "fig, (ax1, ax2) = plt.subplots(nrows=2, ncols=1, figsize=(6,7.5), sharex=True)\n",
    "\n",
    "bar_1 = ax1.bar(y_test_df[\"meanGrade\"], y_test_df[\"Count\"], width=.1)\n",
    "# sns.barplot(x=\"meanGrade\",y=\"Count\", data=y_preds_df, ax=ax2)\n",
    "bar_2 = ax2.bar(y_best_preds_df[\"meanGrade\"], y_best_preds_df[\"Count\"], width=.1)\n",
    "\n",
    "for i, b in enumerate(bar_1):\n",
    "    b.set_color(plt.cm.viridis(1. * i / (len(y_test_df) - 1)))\n",
    "\n",
    "for i, b in enumerate(bar_2):\n",
    "    b.set_color(plt.cm.viridis(1. * i / (len(y_test_df) - 1)))\n",
    "\n",
    "ax1.set_xlabel(\"\")\n",
    "ax2.set_xlabel(\"meanGrade\", fontsize=14)\n",
    "ax1.set_ylabel(\"Count\", fontsize=14)\n",
    "ax2.set_ylabel(\"Count\", fontsize=14)\n",
    "plt.setp(ax1.get_xticklabels(), rotation=90)\n",
    "plt.setp(ax2.get_xticklabels(), rotation=90)\n",
    "ax1.set_title(\"Actual\", fontsize=14)\n",
    "ax2.set_title(\"Prediction\", fontsize=14)\n",
    "ax2.xaxis.set_tick_params(labelsize=13)\n",
    "ax1.yaxis.set_tick_params(labelsize=13)\n",
    "ax2.yaxis.set_tick_params(labelsize=13)\n",
    "fig.subplots_adjust(hspace=.2)\n",
    "fig.suptitle(\"Actual vs Prediction Grade \\n(Development Data)\", fontsize=16);"
   ]
  },
  {
   "cell_type": "code",
   "execution_count": 163,
   "metadata": {},
   "outputs": [
    {
     "data": {
      "image/png": "[encoded data removed]",
      "text/plain": [
       "<Figure size 432x288 with 1 Axes>"
      ]
     },
     "metadata": {},
     "output_type": "display_data"
    }
   ],
   "source": [
    "diffs = []\n",
    "for x in range(len(best_predictions)):\n",
    "    pred = best_predictions[x] / 10\n",
    "    actual = y_test.iloc[x]\n",
    "    diffs.append(abs(round(pred-actual,1)))\n",
    "    \n",
    "ax = sns.countplot(diffs)\n",
    "plt.setp(ax.get_xticklabels(), rotation=90)\n",
    "ax.yaxis.set_tick_params(labelsize=12)\n",
    "ax.set_title(\"Difference between Predicted and Actual Grade \\n(Development Data)\", fontsize=16);\n",
    "ax.set_xlabel(\"meanGrade\",fontsize=14)\n",
    "ax.set_ylabel(\"Count\",fontsize=14)\n",
    "ax.yaxis.set_tick_params(labelsize=13)\n",
    "ax.xaxis.set_tick_params(labelsize=13)"
   ]
  },
  {
   "cell_type": "markdown",
   "metadata": {},
   "source": [
    "# Appendix"
   ]
  },
  {
   "cell_type": "markdown",
   "metadata": {},
   "source": [
    "## Previous Text Representation"
   ]
  },
  {
   "cell_type": "markdown",
   "metadata": {},
   "source": [
    "### Lemmatize"
   ]
  },
  {
   "cell_type": "markdown",
   "metadata": {},
   "source": [
    "https://scikit-learn.org/stable/modules/feature_extraction.html#customizing-the-vectorizer-classes"
   ]
  },
  {
   "cell_type": "code",
   "execution_count": 47,
   "metadata": {},
   "outputs": [],
   "source": [
    "class LemmaTokenizer:\n",
    "    def __init__(self):\n",
    "        self.wnl = WordNetLemmatizer()\n",
    "\n",
    "    def __call__(self, doc):\n",
    "        return [\n",
    "            self.wnl.lemmatize(t)\n",
    "            for t in word_tokenize(doc)\n",
    "            if len(t) >= 2 and t.isalpha() and t not in stop_words\n",
    "        ]"
   ]
  },
  {
   "cell_type": "markdown",
   "metadata": {},
   "source": [
    "### Bag of Words"
   ]
  },
  {
   "cell_type": "code",
   "execution_count": 7,
   "metadata": {},
   "outputs": [],
   "source": [
    "unigram = (1, 1)\n",
    "bigram = (1, 2)\n",
    "trigram = (1, 3)\n",
    "n_gram = bigram"
   ]
  },
  {
   "cell_type": "code",
   "execution_count": 8,
   "metadata": {},
   "outputs": [
    {
     "name": "stderr",
     "output_type": "stream",
     "text": [
      "/opt/anaconda3/lib/python3.7/site-packages/sklearn/feature_extraction/text.py:385: UserWarning: Your stop_words may be inconsistent with your preprocessing. Tokenizing the stop words generated tokens ['could', 'might', 'must', 'need', 'sha', 'wo', 'would'] not in stop_words.\n",
      "  'stop_words.' % sorted(inconsistent))\n",
      "/opt/anaconda3/lib/python3.7/site-packages/sklearn/feature_extraction/text.py:385: UserWarning: Your stop_words may be inconsistent with your preprocessing. Tokenizing the stop words generated tokens ['could', 'might', 'must', 'need', 'sha', 'wo', 'would'] not in stop_words.\n",
      "  'stop_words.' % sorted(inconsistent))\n"
     ]
    }
   ],
   "source": [
    "bow_train = CountVectorizer(\n",
    "    strip_accents=\"ascii\",\n",
    "    lowercase=True,\n",
    "    stop_words=stop_words,\n",
    "    ngram_range=n_gram,\n",
    "    min_df=2,\n",
    ")\n",
    "X_train = bow_train.fit_transform(train_df[\"original\"])\n",
    "\n",
    "train_vocab = bow_train.get_feature_names()\n",
    "\n",
    "\n",
    "bow_test = CountVectorizer(\n",
    "    strip_accents=\"ascii\",\n",
    "    lowercase=True,\n",
    "    stop_words=stop_words,\n",
    "    ngram_range=n_gram,\n",
    "    min_df=2,\n",
    "    vocabulary=train_vocab,\n",
    ")\n",
    "\n",
    "X_test = bow_test.fit_transform(test_df[\"original\"])\n",
    "\n",
    "\n",
    "bow_train_edit = TfidfVectorizer(\n",
    "    tokenizer=LemmaTokenizer(),\n",
    "    strip_accents=\"ascii\",\n",
    "    lowercase=True,\n",
    "    stop_words=stop_words,\n",
    "    ngram_range=n_gram,\n",
    "    min_df=2,\n",
    ")\n",
    "X_train_edit = bow_train_edit.fit_transform(train_df[\"new\"])\n",
    "\n",
    "X_train = hstack((X_train, X_train_edit))\n",
    "\n",
    "\n",
    "bow_test_edit = TfidfVectorizer(\n",
    "    tokenizer=LemmaTokenizer(),\n",
    "    strip_accents=\"ascii\",\n",
    "    lowercase=True,\n",
    "    stop_words=stop_words,\n",
    "    ngram_range=n_gram,\n",
    "    vocabulary=bow_train_edit.get_feature_names(),\n",
    "    min_df=2,\n",
    ")\n",
    "X_test_edit = bow_test_edit.fit_transform(test_df[\"new\"])\n",
    "\n",
    "X_test = hstack((X_test, X_test_edit))"
   ]
  },
  {
   "cell_type": "markdown",
   "metadata": {},
   "source": [
    "### TF-IDF"
   ]
  },
  {
   "cell_type": "code",
   "execution_count": 66,
   "metadata": {},
   "outputs": [],
   "source": [
    "tf_idf_train = TfidfVectorizer(\n",
    "    tokenizer=LemmaTokenizer(),\n",
    "    strip_accents=\"ascii\",\n",
    "    lowercase=True,\n",
    "    stop_words=stop_words,\n",
    "    ngram_range=n_gram,\n",
    "    min_df=5,\n",
    ")\n",
    "X_train = tf_idf_train.fit_transform(train_df[\"original\"])\n",
    "\n",
    "train_vocab = tf_idf_train.get_feature_names()\n",
    "\n",
    "\n",
    "tf_idf_test = TfidfVectorizer(\n",
    "    tokenizer=LemmaTokenizer(),\n",
    "    strip_accents=\"ascii\",\n",
    "    lowercase=True,\n",
    "    stop_words=stop_words,\n",
    "    ngram_range=n_gram,\n",
    "    vocabulary=train_vocab,\n",
    "    min_df=5,\n",
    ")\n",
    "\n",
    "X_test = tf_idf_test.fit_transform(test_df[\"original\"])"
   ]
  },
  {
   "cell_type": "markdown",
   "metadata": {},
   "source": [
    "Add Edit to the Train Features"
   ]
  },
  {
   "cell_type": "code",
   "execution_count": 10,
   "metadata": {},
   "outputs": [],
   "source": [
    "tf_idf_train_edit = TfidfVectorizer(\n",
    "    tokenizer=LemmaTokenizer(), strip_accents=\"ascii\", lowercase=True, stop_words=stop_words, ngram_range=n_gram, min_df=5\n",
    ")\n",
    "X_train_edit = tf_idf_train_edit.fit_transform(train_df[\"edit\"])"
   ]
  },
  {
   "cell_type": "code",
   "execution_count": 11,
   "metadata": {},
   "outputs": [],
   "source": [
    "X_train = hstack((X_train, X_train_edit))"
   ]
  },
  {
   "cell_type": "code",
   "execution_count": 12,
   "metadata": {},
   "outputs": [],
   "source": [
    "tf_idf_test_edit = TfidfVectorizer(\n",
    "    tokenizer=LemmaTokenizer(), strip_accents=\"ascii\", lowercase=True, stop_words=stop_words, ngram_range=n_gram, vocabulary=tf_idf_train_edit.get_feature_names(), min_df=5\n",
    ")\n",
    "X_test_edit = tf_idf_test_edit.fit_transform(test_df[\"edit\"])"
   ]
  },
  {
   "cell_type": "code",
   "execution_count": 13,
   "metadata": {},
   "outputs": [],
   "source": [
    "X_test = hstack((X_test, X_test_edit))"
   ]
  },
  {
   "cell_type": "markdown",
   "metadata": {},
   "source": [
    "## Old Utility Functions"
   ]
  },
  {
   "cell_type": "code",
   "execution_count": 14,
   "metadata": {},
   "outputs": [],
   "source": [
    "def addToSparse(spm, new_col):\n",
    "    spm = hstack((spm,np.array(new_col)[:,None]))\n",
    "    return spm"
   ]
  },
  {
   "cell_type": "code",
   "execution_count": 15,
   "metadata": {},
   "outputs": [],
   "source": [
    "def maxGradeCalc(series):\n",
    "    max_vals = []\n",
    "    for val in series:\n",
    "        max_vals.append(max([int(x) for x in list(str(val))]))\n",
    "    return max_vals"
   ]
  },
  {
   "cell_type": "code",
   "execution_count": 16,
   "metadata": {},
   "outputs": [],
   "source": [
    "def minGradeCalc(series):\n",
    "    min_vals = []\n",
    "    for val in series:\n",
    "        min_vals.append(min([int(x) for x in list(str(val))]))\n",
    "    return min_vals"
   ]
  },
  {
   "cell_type": "code",
   "execution_count": 17,
   "metadata": {},
   "outputs": [],
   "source": [
    "def medianGradeCalc(series):\n",
    "    med_vals = []\n",
    "    for val in series:\n",
    "        med_vals.append(np.median([int(x) for x in list(str(val))]))\n",
    "    return med_vals"
   ]
  },
  {
   "cell_type": "code",
   "execution_count": 18,
   "metadata": {},
   "outputs": [],
   "source": [
    "def addCols(X, df):\n",
    "    X = addToSparse(X, maxGradeCalc(df[\"grades\"]))\n",
    "    X = addToSparse(X, minGradeCalc(df[\"grades\"]))\n",
    "    X = addToSparse(X, medianGradeCalc(df[\"grades\"]))\n",
    "    return X"
   ]
  },
  {
   "cell_type": "code",
   "execution_count": 307,
   "metadata": {},
   "outputs": [],
   "source": [
    "def dfFromSparse(spm):\n",
    "    return pd.DataFrame.sparse.from_spmatrix(spm)"
   ]
  },
  {
   "cell_type": "code",
   "execution_count": 20,
   "metadata": {},
   "outputs": [],
   "source": [
    "X_train = addCols(X_train, train_df)\n",
    "X_test = addCols(X_test, test_df)"
   ]
  },
  {
   "cell_type": "markdown",
   "metadata": {},
   "source": [
    "## A bunch of other classifiers"
   ]
  },
  {
   "cell_type": "code",
   "execution_count": 359,
   "metadata": {},
   "outputs": [],
   "source": [
    "from sklearn.neural_network import MLPRegressor, BernoulliRBM\n",
    "from sklearn.linear_model import HuberRegressor, RANSACRegressor, TheilSenRegressor\n",
    "from sklearn.linear_model import (\n",
    "    ElasticNet,\n",
    "    ElasticNetCV,\n",
    "    Lars,\n",
    "    LarsCV,\n",
    "    LassoCV,\n",
    "    LassoLars,\n",
    "    LassoLarsIC,\n",
    "    OrthogonalMatchingPursuit,\n",
    "    OrthogonalMatchingPursuitCV,\n",
    "    Perceptron,\n",
    "    Ridge,\n",
    "    RidgeCV,\n",
    "    SGDRegressor,\n",
    ")"
   ]
  },
  {
   "cell_type": "code",
   "execution_count": 360,
   "metadata": {},
   "outputs": [
    {
     "name": "stdout",
     "output_type": "stream",
     "text": [
      "0.563092506371473\n"
     ]
    }
   ],
   "source": [
    "mlp = SGDRegressor()\n",
    "mlp.fit(X_train, y_train)\n",
    "a = rmse(test_df[\"meanGrade\"], np.array(roundPred(mlp.predict(X_test))))\n",
    "print(a)"
   ]
  },
  {
   "cell_type": "code",
   "execution_count": 328,
   "metadata": {},
   "outputs": [
    {
     "name": "stdout",
     "output_type": "stream",
     "text": [
      "0.5704084971829719\n",
      "0.568753705201692\n",
      "0.5658973126808254\n",
      "0.5640570865242328\n",
      "0.5616738110584626\n",
      "0.559948913987089\n",
      "0.5594429698763105\n",
      "0.5599046159834608\n",
      "0.5590401033224521\n",
      "0.5592434208850602\n"
     ]
    }
   ],
   "source": [
    "for e in range(10, 20, 1):\n",
    "    e = e / 10\n",
    "    mlp = HuberRegressor(epsilon=e)\n",
    "    mlp.fit(X_train, y_train)\n",
    "    a = rmse(test_df[\"meanGrade\"], np.array(roundPred(mlp.predict(X_test))))\n",
    "    print(a)"
   ]
  }
 ],
 "metadata": {
  "anaconda-cloud": {},
  "kernelspec": {
   "display_name": "Python 3",
   "language": "python",
   "name": "python3"
  },
  "language_info": {
   "codemirror_mode": {
    "name": "ipython",
    "version": 3
   },
   "file_extension": ".py",
   "mimetype": "text/x-python",
   "name": "python",
   "nbconvert_exporter": "python",
   "pygments_lexer": "ipython3",
   "version": "3.7.7"
  },
  "toc-autonumbering": true,
  "toc-showcode": false,
  "toc-showmarkdowntxt": false,
  "toc-showtags": false
 },
 "nbformat": 4,
 "nbformat_minor": 4
}
